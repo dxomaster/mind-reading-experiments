{
 "cells": [
  {
   "cell_type": "code",
   "execution_count": 1,
   "id": "85805296",
   "metadata": {},
   "outputs": [],
   "source": [
    "# Load Imports\n",
    "from glob import glob\n",
    "import shutil"
   ]
  },
  {
   "cell_type": "code",
   "execution_count": null,
   "id": "f558cb90",
   "metadata": {},
   "outputs": [],
   "source": [
    "# Create Folder for Combined Dataset\n",
    "datasets = ['snippet_library_test_timeWarp_white', 'snippet_library_test_synthetic_white', 'snippet_library_test_singleLetters_white']\n",
    "\n",
    "new = 'merged_dataset'\n",
    "\n",
    "for char in [\"greaterThan\", \"comma\", \"tilde\", \"apostrophe\", \"questionMark\", \"a\",\"b\",\"c\",\"d\",\"e\",\"f\",\"g\",\"h\",\"i\",\"j\",\"k\",\"l\",\"m\",\"n\",\"o\",\"p\",\"q\",\"r\",\"s\",\"t\",\"u\",\"v\",\"w\",\"x\",\"y\",\"z\"]:\n",
    "    ctr = 0\n",
    "    for dataset in datasets: \n",
    "        path = './{}/merged_experiments/{}/'.format(dataset, char)\n",
    "        \n",
    "        for x in glob(path + '*.jpg'):\n",
    "            target = './{}/{}/{}.jpg'.format(new,char,ctr)\n",
    "            shutil.copy(path, target)\n",
    "\n",
    "        ctr += 1"
   ]
  },
  {
   "cell_type": "code",
   "execution_count": null,
   "id": "7391931d",
   "metadata": {},
   "outputs": [],
   "source": [
    "# Iterate over each dataset, put the "
   ]
  }
 ],
 "metadata": {
  "kernelspec": {
   "display_name": "Python 3 (ipykernel)",
   "language": "python",
   "name": "python3"
  },
  "language_info": {
   "codemirror_mode": {
    "name": "ipython",
    "version": 3
   },
   "file_extension": ".py",
   "mimetype": "text/x-python",
   "name": "python",
   "nbconvert_exporter": "python",
   "pygments_lexer": "ipython3",
   "version": "3.9.12"
  }
 },
 "nbformat": 4,
 "nbformat_minor": 5
}
