{
 "cells": [
  {
   "cell_type": "code",
   "execution_count": 3,
   "id": "0ff8af0d",
   "metadata": {},
   "outputs": [],
   "source": [
    "# Load Imports\n",
    "from glob import glob\n",
    "import shutil\n",
    "import os"
   ]
  },
  {
   "cell_type": "code",
   "execution_count": 8,
   "id": "9d868b42",
   "metadata": {},
   "outputs": [],
   "source": [
    "# Create Folder for Combined Dataset\n",
    "datasets = ['snippet_library_test_timeWarp_white', 'snippet_library_test_synthetic_white', 'snippet_library_test_singleLetters_white']\n",
    "\n",
    "new = 'merged_dataset'\n",
    "# os.mkdir('./' + new)\n",
    "for char in [\"greaterThan\", \"comma\", \"tilde\", \"apostrophe\", \"questionMark\", \"a\",\"b\",\"c\",\"d\",\"e\",\"f\",\"g\",\"h\",\"i\",\"j\",\"k\",\"l\",\"m\",\"n\",\"o\",\"p\",\"q\",\"r\",\"s\",\"t\",\"u\",\"v\",\"w\",\"x\",\"y\",\"z\"]:\n",
    "    ctr = 0\n",
    "    directory = './{}/{}'.format(new, char)\n",
    "    if not os.path.exists(directory):\n",
    "        os.mkdir(directory)\n",
    "    for dataset in datasets: \n",
    "        path = './{}/merged_experiments/{}/'.format(dataset, char)\n",
    "        \n",
    "        for x in glob(path + '*.jpg'):\n",
    "            target = './{}/{}/{}.jpg'.format(new,char,ctr)\n",
    "            shutil.copy(x, target)\n",
    "\n",
    "            ctr += 1"
   ]
  },
  {
   "cell_type": "code",
   "execution_count": null,
   "id": "a561f650",
   "metadata": {},
   "outputs": [],
   "source": [
    "# Iterate over each dataset, put the "
   ]
  }
 ],
 "metadata": {
  "kernelspec": {
   "display_name": "Python 3 (ipykernel)",
   "language": "python",
   "name": "python3"
  },
  "language_info": {
   "codemirror_mode": {
    "name": "ipython",
    "version": 3
   },
   "file_extension": ".py",
   "mimetype": "text/x-python",
   "name": "python",
   "nbconvert_exporter": "python",
   "pygments_lexer": "ipython3",
   "version": "3.9.12"
  }
 },
 "nbformat": 4,
 "nbformat_minor": 5
}
